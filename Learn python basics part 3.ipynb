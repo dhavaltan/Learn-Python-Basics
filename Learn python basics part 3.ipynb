{
 "cells": [
  {
   "cell_type": "markdown",
   "metadata": {},
   "source": [
    "### Classes and Objects"
   ]
  },
  {
   "cell_type": "code",
   "execution_count": 1,
   "metadata": {},
   "outputs": [],
   "source": [
    "class Base:\n",
    "    name = \"xyz\"\n",
    "    def __init__(self,name):\n",
    "        self.name = name\n",
    "    def change_name(self , new_name):\n",
    "        self.name = new_name"
   ]
  },
  {
   "cell_type": "code",
   "execution_count": 2,
   "metadata": {},
   "outputs": [],
   "source": [
    "base = Base(\"kmn\")"
   ]
  },
  {
   "cell_type": "code",
   "execution_count": 3,
   "metadata": {},
   "outputs": [
    {
     "data": {
      "text/plain": [
       "'kmn'"
      ]
     },
     "execution_count": 3,
     "metadata": {},
     "output_type": "execute_result"
    }
   ],
   "source": [
    "base.name"
   ]
  },
  {
   "cell_type": "code",
   "execution_count": 4,
   "metadata": {},
   "outputs": [
    {
     "data": {
      "text/plain": [
       "'pqr'"
      ]
     },
     "execution_count": 4,
     "metadata": {},
     "output_type": "execute_result"
    }
   ],
   "source": [
    "base.change_name(\"pqr\")\n",
    "base.name"
   ]
  },
  {
   "cell_type": "markdown",
   "metadata": {},
   "source": [
    "### Inheritance"
   ]
  },
  {
   "cell_type": "code",
   "execution_count": 5,
   "metadata": {},
   "outputs": [],
   "source": [
    "class Base:\n",
    "    def __init__(self,name,distace):\n",
    "        self.name = name\n",
    "        self.distace = distace\n",
    "    def dis(self):\n",
    "        print(\"name is {na} and distace is {dis}\".format( na = self.name, dis = self.distace))"
   ]
  },
  {
   "cell_type": "code",
   "execution_count": 6,
   "metadata": {},
   "outputs": [],
   "source": [
    "class Derived(Base):\n",
    "    def __init__(self, name , distance , extra):\n",
    "        Base.__init__(self , name , distance)\n",
    "        self.extra = extra\n",
    "    def di(self):\n",
    "        print(\"In derived class\")"
   ]
  },
  {
   "cell_type": "code",
   "execution_count": 7,
   "metadata": {},
   "outputs": [
    {
     "name": "stdout",
     "output_type": "stream",
     "text": [
      "name is xyz and distace is 12\n"
     ]
    }
   ],
   "source": [
    "x = Base(\"xyz\", 12)\n",
    "y = Derived(\"pqr\",20,\"Derived class\")\n",
    "x.dis()"
   ]
  },
  {
   "cell_type": "code",
   "execution_count": 8,
   "metadata": {},
   "outputs": [
    {
     "name": "stdout",
     "output_type": "stream",
     "text": [
      "name is pqr and distace is 20\n"
     ]
    }
   ],
   "source": [
    "y.dis()"
   ]
  },
  {
   "cell_type": "code",
   "execution_count": 9,
   "metadata": {},
   "outputs": [
    {
     "name": "stdout",
     "output_type": "stream",
     "text": [
      "In derived class\n"
     ]
    }
   ],
   "source": [
    "y.di()"
   ]
  },
  {
   "cell_type": "markdown",
   "metadata": {},
   "source": [
    "### Python Composition"
   ]
  },
  {
   "cell_type": "code",
   "execution_count": 10,
   "metadata": {},
   "outputs": [
    {
     "name": "stdout",
     "output_type": "stream",
     "text": [
      "In 2nd derived class\n"
     ]
    }
   ],
   "source": [
    "class Derived2(Base):\n",
    "    def __init__(self , name , distance , ext):\n",
    "        self.base = Base(name,distance)\n",
    "        self.ext = ext\n",
    "    def di(self):\n",
    "        print(\"In 2nd derived class\")\n",
    "        \n",
    "x = Derived2(\"kmn\",20,\"2nd Derived\")\n",
    "x.di()"
   ]
  },
  {
   "cell_type": "markdown",
   "metadata": {},
   "source": [
    "### Exception Handling"
   ]
  },
  {
   "cell_type": "code",
   "execution_count": 11,
   "metadata": {},
   "outputs": [
    {
     "name": "stdout",
     "output_type": "stream",
     "text": [
      "in the try block\n",
      "In the except block\n",
      "In the finally block\n"
     ]
    }
   ],
   "source": [
    "try:\n",
    "    print(\"in the try block\")\n",
    "    print(1/0)\n",
    "except:\n",
    "    print(\"In the except block\")\n",
    "finally:\n",
    "    print(\"In the finally block\")"
   ]
  },
  {
   "cell_type": "code",
   "execution_count": 12,
   "metadata": {},
   "outputs": [
    {
     "name": "stdout",
     "output_type": "stream",
     "text": [
      "5\n",
      "valid\n",
      "50\n",
      "valid\n",
      "-1\n",
      "please enter valid number\n"
     ]
    },
    {
     "ename": "SystemExit",
     "evalue": "",
     "output_type": "error",
     "traceback": [
      "An exception has occurred, use %tb to see the full traceback.\n",
      "\u001b[1;31mSystemExit\u001b[0m\n"
     ]
    },
    {
     "name": "stderr",
     "output_type": "stream",
     "text": [
      "C:\\Users\\Dhaval\\Anaconda3\\lib\\site-packages\\IPython\\core\\interactiveshell.py:2918: UserWarning: To exit: use 'exit', 'quit', or Ctrl-D.\n",
      "  warn(\"To exit: use 'exit', 'quit', or Ctrl-D.\", stacklevel=1)\n"
     ]
    }
   ],
   "source": [
    "import sys\n",
    "while 1:\n",
    "    try:\n",
    "        var = int(input())\n",
    "        if var < 0:\n",
    "            raise ValueError(\"please enter valid number\")\n",
    "        else:\n",
    "            print(\"valid\")\n",
    "    except ValueError as e:\n",
    "        print(e)\n",
    "        sys.exit(\"\")"
   ]
  }
 ],
 "metadata": {
  "kernelspec": {
   "display_name": "Python 3",
   "language": "python",
   "name": "python3"
  },
  "language_info": {
   "codemirror_mode": {
    "name": "ipython",
    "version": 3
   },
   "file_extension": ".py",
   "mimetype": "text/x-python",
   "name": "python",
   "nbconvert_exporter": "python",
   "pygments_lexer": "ipython3",
   "version": "3.6.4"
  }
 },
 "nbformat": 4,
 "nbformat_minor": 2
}
